{
 "cells": [
  {
   "cell_type": "markdown",
   "metadata": {},
   "source": [
    "## DSCI 100 Group Project Proposal (UCI Machine Learning Repository Adult Dataset)"
   ]
  },
  {
   "cell_type": "markdown",
   "metadata": {},
   "source": [
    "<em> Edward Huang, Jonathan Lee, Ryan Gao </em>\n",
    "\n",
    "\n"
   ]
  },
  {
   "cell_type": "markdown",
   "metadata": {},
   "source": [
    "## Introduction\n",
    "\n",
    "There are numerous factors that could affect the amount of money an individual makes. This project aims to predict whether an individual will earn >50k or <=50k a year. We are using the “Adult Data Set” from UCI Machine Learning Repository which contains data on socioeconomic factors such as education, age, and sex, among others (explained below). These factors will serve as predictors in this analysis. This data is from a census conducted in 1994.\n",
    "\n",
    "Question: Given a set of data pertaining to an individual, will their income be >50k or <=50k?"
   ]
  },
  {
   "cell_type": "markdown",
   "metadata": {},
   "source": [
    "## Preliminary Exploratory Data Analysis"
   ]
  },
  {
   "cell_type": "code",
   "execution_count": 21,
   "metadata": {},
   "outputs": [],
   "source": [
    "# Libraries are loaded into R\n",
    "library(tidyverse)\n",
    "library(ggplot2)\n",
    "library(tidymodels)\n",
    "library(repr)\n",
    "options(repr.matrix.max.rows = 6)"
   ]
  },
  {
   "cell_type": "code",
   "execution_count": 22,
   "metadata": {},
   "outputs": [
    {
     "name": "stderr",
     "output_type": "stream",
     "text": [
      "Parsed with column specification:\n",
      "cols(\n",
      "  `39` = \u001b[32mcol_double()\u001b[39m,\n",
      "  `State-gov` = \u001b[31mcol_character()\u001b[39m,\n",
      "  `77516` = \u001b[32mcol_double()\u001b[39m,\n",
      "  Bachelors = \u001b[31mcol_character()\u001b[39m,\n",
      "  `13` = \u001b[32mcol_double()\u001b[39m,\n",
      "  `Never-married` = \u001b[31mcol_character()\u001b[39m,\n",
      "  `Adm-clerical` = \u001b[31mcol_character()\u001b[39m,\n",
      "  `Not-in-family` = \u001b[31mcol_character()\u001b[39m,\n",
      "  White = \u001b[31mcol_character()\u001b[39m,\n",
      "  Male = \u001b[31mcol_character()\u001b[39m,\n",
      "  `2174` = \u001b[32mcol_double()\u001b[39m,\n",
      "  `0` = \u001b[32mcol_double()\u001b[39m,\n",
      "  `40` = \u001b[32mcol_double()\u001b[39m,\n",
      "  `United-States` = \u001b[31mcol_character()\u001b[39m,\n",
      "  `<=50K` = \u001b[31mcol_character()\u001b[39m\n",
      ")\n",
      "\n"
     ]
    },
    {
     "data": {
      "text/html": [
       "<table>\n",
       "<caption>A spec_tbl_df: 32560 × 15</caption>\n",
       "<thead>\n",
       "\t<tr><th scope=col>age</th><th scope=col>workclass</th><th scope=col>fnlwgt</th><th scope=col>education</th><th scope=col>education_num</th><th scope=col>marital_status</th><th scope=col>occupation</th><th scope=col>relationship</th><th scope=col>race</th><th scope=col>sex</th><th scope=col>capital_gain</th><th scope=col>capital_loss</th><th scope=col>hours_per_week</th><th scope=col>native_country</th><th scope=col>income</th></tr>\n",
       "\t<tr><th scope=col>&lt;dbl&gt;</th><th scope=col>&lt;chr&gt;</th><th scope=col>&lt;dbl&gt;</th><th scope=col>&lt;chr&gt;</th><th scope=col>&lt;dbl&gt;</th><th scope=col>&lt;chr&gt;</th><th scope=col>&lt;chr&gt;</th><th scope=col>&lt;chr&gt;</th><th scope=col>&lt;chr&gt;</th><th scope=col>&lt;chr&gt;</th><th scope=col>&lt;dbl&gt;</th><th scope=col>&lt;dbl&gt;</th><th scope=col>&lt;dbl&gt;</th><th scope=col>&lt;chr&gt;</th><th scope=col>&lt;chr&gt;</th></tr>\n",
       "</thead>\n",
       "<tbody>\n",
       "\t<tr><td>50</td><td>Self-emp-not-inc</td><td> 83311</td><td>Bachelors</td><td>13</td><td>Married-civ-spouse</td><td><span style=white-space:pre-wrap>Exec-managerial  </span></td><td><span style=white-space:pre-wrap>Husband      </span></td><td>White</td><td>Male</td><td>0</td><td>0</td><td>13</td><td>United-States</td><td>&lt;=50K</td></tr>\n",
       "\t<tr><td>38</td><td><span style=white-space:pre-wrap>Private         </span></td><td>215646</td><td><span style=white-space:pre-wrap>HS-grad  </span></td><td> 9</td><td><span style=white-space:pre-wrap>Divorced          </span></td><td>Handlers-cleaners</td><td>Not-in-family</td><td>White</td><td>Male</td><td>0</td><td>0</td><td>40</td><td>United-States</td><td>&lt;=50K</td></tr>\n",
       "\t<tr><td>53</td><td><span style=white-space:pre-wrap>Private         </span></td><td>234721</td><td><span style=white-space:pre-wrap>11th     </span></td><td> 7</td><td>Married-civ-spouse</td><td>Handlers-cleaners</td><td><span style=white-space:pre-wrap>Husband      </span></td><td>Black</td><td>Male</td><td>0</td><td>0</td><td>40</td><td>United-States</td><td>&lt;=50K</td></tr>\n",
       "\t<tr><td>⋮</td><td>⋮</td><td>⋮</td><td>⋮</td><td>⋮</td><td>⋮</td><td>⋮</td><td>⋮</td><td>⋮</td><td>⋮</td><td>⋮</td><td>⋮</td><td>⋮</td><td>⋮</td><td>⋮</td></tr>\n",
       "\t<tr><td>58</td><td><span style=white-space:pre-wrap>Private     </span></td><td>151910</td><td>HS-grad</td><td>9</td><td><span style=white-space:pre-wrap>Widowed           </span></td><td><span style=white-space:pre-wrap>Adm-clerical   </span></td><td>Unmarried</td><td>White</td><td>Female</td><td><span style=white-space:pre-wrap>    0</span></td><td>0</td><td>40</td><td>United-States</td><td>&lt;=50K</td></tr>\n",
       "\t<tr><td>22</td><td><span style=white-space:pre-wrap>Private     </span></td><td>201490</td><td>HS-grad</td><td>9</td><td><span style=white-space:pre-wrap>Never-married     </span></td><td><span style=white-space:pre-wrap>Adm-clerical   </span></td><td>Own-child</td><td>White</td><td><span style=white-space:pre-wrap>Male  </span></td><td><span style=white-space:pre-wrap>    0</span></td><td>0</td><td>20</td><td>United-States</td><td>&lt;=50K</td></tr>\n",
       "\t<tr><td>52</td><td>Self-emp-inc</td><td>287927</td><td>HS-grad</td><td>9</td><td>Married-civ-spouse</td><td>Exec-managerial</td><td><span style=white-space:pre-wrap>Wife     </span></td><td>White</td><td>Female</td><td>15024</td><td>0</td><td>40</td><td>United-States</td><td>&gt;50K </td></tr>\n",
       "</tbody>\n",
       "</table>\n"
      ],
      "text/latex": [
       "A spec\\_tbl\\_df: 32560 × 15\n",
       "\\begin{tabular}{lllllllllllllll}\n",
       " age & workclass & fnlwgt & education & education\\_num & marital\\_status & occupation & relationship & race & sex & capital\\_gain & capital\\_loss & hours\\_per\\_week & native\\_country & income\\\\\n",
       " <dbl> & <chr> & <dbl> & <chr> & <dbl> & <chr> & <chr> & <chr> & <chr> & <chr> & <dbl> & <dbl> & <dbl> & <chr> & <chr>\\\\\n",
       "\\hline\n",
       "\t 50 & Self-emp-not-inc &  83311 & Bachelors & 13 & Married-civ-spouse & Exec-managerial   & Husband       & White & Male & 0 & 0 & 13 & United-States & <=50K\\\\\n",
       "\t 38 & Private          & 215646 & HS-grad   &  9 & Divorced           & Handlers-cleaners & Not-in-family & White & Male & 0 & 0 & 40 & United-States & <=50K\\\\\n",
       "\t 53 & Private          & 234721 & 11th      &  7 & Married-civ-spouse & Handlers-cleaners & Husband       & Black & Male & 0 & 0 & 40 & United-States & <=50K\\\\\n",
       "\t ⋮ & ⋮ & ⋮ & ⋮ & ⋮ & ⋮ & ⋮ & ⋮ & ⋮ & ⋮ & ⋮ & ⋮ & ⋮ & ⋮ & ⋮\\\\\n",
       "\t 58 & Private      & 151910 & HS-grad & 9 & Widowed            & Adm-clerical    & Unmarried & White & Female &     0 & 0 & 40 & United-States & <=50K\\\\\n",
       "\t 22 & Private      & 201490 & HS-grad & 9 & Never-married      & Adm-clerical    & Own-child & White & Male   &     0 & 0 & 20 & United-States & <=50K\\\\\n",
       "\t 52 & Self-emp-inc & 287927 & HS-grad & 9 & Married-civ-spouse & Exec-managerial & Wife      & White & Female & 15024 & 0 & 40 & United-States & >50K \\\\\n",
       "\\end{tabular}\n"
      ],
      "text/markdown": [
       "\n",
       "A spec_tbl_df: 32560 × 15\n",
       "\n",
       "| age &lt;dbl&gt; | workclass &lt;chr&gt; | fnlwgt &lt;dbl&gt; | education &lt;chr&gt; | education_num &lt;dbl&gt; | marital_status &lt;chr&gt; | occupation &lt;chr&gt; | relationship &lt;chr&gt; | race &lt;chr&gt; | sex &lt;chr&gt; | capital_gain &lt;dbl&gt; | capital_loss &lt;dbl&gt; | hours_per_week &lt;dbl&gt; | native_country &lt;chr&gt; | income &lt;chr&gt; |\n",
       "|---|---|---|---|---|---|---|---|---|---|---|---|---|---|---|\n",
       "| 50 | Self-emp-not-inc |  83311 | Bachelors | 13 | Married-civ-spouse | Exec-managerial   | Husband       | White | Male | 0 | 0 | 13 | United-States | &lt;=50K |\n",
       "| 38 | Private          | 215646 | HS-grad   |  9 | Divorced           | Handlers-cleaners | Not-in-family | White | Male | 0 | 0 | 40 | United-States | &lt;=50K |\n",
       "| 53 | Private          | 234721 | 11th      |  7 | Married-civ-spouse | Handlers-cleaners | Husband       | Black | Male | 0 | 0 | 40 | United-States | &lt;=50K |\n",
       "| ⋮ | ⋮ | ⋮ | ⋮ | ⋮ | ⋮ | ⋮ | ⋮ | ⋮ | ⋮ | ⋮ | ⋮ | ⋮ | ⋮ | ⋮ |\n",
       "| 58 | Private      | 151910 | HS-grad | 9 | Widowed            | Adm-clerical    | Unmarried | White | Female |     0 | 0 | 40 | United-States | &lt;=50K |\n",
       "| 22 | Private      | 201490 | HS-grad | 9 | Never-married      | Adm-clerical    | Own-child | White | Male   |     0 | 0 | 20 | United-States | &lt;=50K |\n",
       "| 52 | Self-emp-inc | 287927 | HS-grad | 9 | Married-civ-spouse | Exec-managerial | Wife      | White | Female | 15024 | 0 | 40 | United-States | &gt;50K  |\n",
       "\n"
      ],
      "text/plain": [
       "      age workclass        fnlwgt education education_num marital_status    \n",
       "1     50  Self-emp-not-inc  83311 Bachelors 13            Married-civ-spouse\n",
       "2     38  Private          215646 HS-grad    9            Divorced          \n",
       "3     53  Private          234721 11th       7            Married-civ-spouse\n",
       "⋮     ⋮   ⋮                ⋮      ⋮         ⋮             ⋮                 \n",
       "32558 58  Private          151910 HS-grad   9             Widowed           \n",
       "32559 22  Private          201490 HS-grad   9             Never-married     \n",
       "32560 52  Self-emp-inc     287927 HS-grad   9             Married-civ-spouse\n",
       "      occupation        relationship  race  sex    capital_gain capital_loss\n",
       "1     Exec-managerial   Husband       White Male   0            0           \n",
       "2     Handlers-cleaners Not-in-family White Male   0            0           \n",
       "3     Handlers-cleaners Husband       Black Male   0            0           \n",
       "⋮     ⋮                 ⋮             ⋮     ⋮      ⋮            ⋮           \n",
       "32558 Adm-clerical      Unmarried     White Female     0        0           \n",
       "32559 Adm-clerical      Own-child     White Male       0        0           \n",
       "32560 Exec-managerial   Wife          White Female 15024        0           \n",
       "      hours_per_week native_country income\n",
       "1     13             United-States  <=50K \n",
       "2     40             United-States  <=50K \n",
       "3     40             United-States  <=50K \n",
       "⋮     ⋮              ⋮              ⋮     \n",
       "32558 40             United-States  <=50K \n",
       "32559 20             United-States  <=50K \n",
       "32560 40             United-States  >50K  "
      ]
     },
     "metadata": {},
     "output_type": "display_data"
    }
   ],
   "source": [
    "# Data is read and column names are assigned\n",
    "data <- read_csv('https://archive.ics.uci.edu/ml/machine-learning-databases/adult/adult.data')\n",
    "colnames(data) <- c('age', 'workclass', 'fnlwgt', 'education', \n",
    "                     'education_num', 'marital_status', 'occupation', 'relationship', 'race', 'sex', \n",
    "                     'capital_gain', 'capital_loss', 'hours_per_week', 'native_country', 'income')\n",
    "data"
   ]
  },
  {
   "cell_type": "markdown",
   "metadata": {},
   "source": [
    "### Variable Explanations:\n",
    "\n",
    "`fnlwgt`: assigns similar weights to units with similar characteristics, as estimated by the census \n",
    "\n",
    "`capital_gain` and `capital_loss`: income generated outside of salary \n",
    "\n",
    "`education_num`: continuous description of `education` \n",
    "\n",
    "The data is already tidy, as each variable is in its own column, each observation is in its own row, and each cell has one data point. \n",
    "\n",
    "### Excluded Variables: \n",
    "\n",
    "`fnlwgt` has no predictive capability \n",
    "\n",
    "`education` and `marital_status` are represented by other variables \n",
    "\n",
    "`capital_gain` and `capital_loss` combined into `total_capital`\n",
    "\n",
    "We found that the most important variables to include were the individual’s work experience and the total education they received (Salary.com, Northern Birch Credit Union), which are best represented by the columns `age` and `education_num`, respectively. Another important variable to consider is the column `hours_per_week`, which represents the total hours the individual spends on their occupation. Finally, as income inequality is still a prevalent issue, we wanted to see the effect of `race` and `sex` as a predictor as well."
   ]
  },
  {
   "cell_type": "code",
   "execution_count": 23,
   "metadata": {},
   "outputs": [
    {
     "data": {
      "text/html": [
       "<table>\n",
       "<caption>A tibble: 32560 × 11</caption>\n",
       "<thead>\n",
       "\t<tr><th scope=col>age</th><th scope=col>workclass</th><th scope=col>education_num</th><th scope=col>occupation</th><th scope=col>relationship</th><th scope=col>race</th><th scope=col>sex</th><th scope=col>hours_per_week</th><th scope=col>native_country</th><th scope=col>income</th><th scope=col>total_capital</th></tr>\n",
       "\t<tr><th scope=col>&lt;dbl&gt;</th><th scope=col>&lt;fct&gt;</th><th scope=col>&lt;dbl&gt;</th><th scope=col>&lt;fct&gt;</th><th scope=col>&lt;fct&gt;</th><th scope=col>&lt;fct&gt;</th><th scope=col>&lt;fct&gt;</th><th scope=col>&lt;dbl&gt;</th><th scope=col>&lt;fct&gt;</th><th scope=col>&lt;fct&gt;</th><th scope=col>&lt;dbl&gt;</th></tr>\n",
       "</thead>\n",
       "<tbody>\n",
       "\t<tr><td>50</td><td>Self-emp-not-inc</td><td>13</td><td><span style=white-space:pre-wrap>Exec-managerial  </span></td><td><span style=white-space:pre-wrap>Husband      </span></td><td>White</td><td>Male</td><td>13</td><td>United-States</td><td>&lt;=50K</td><td>0</td></tr>\n",
       "\t<tr><td>38</td><td><span style=white-space:pre-wrap>Private         </span></td><td> 9</td><td>Handlers-cleaners</td><td>Not-in-family</td><td>White</td><td>Male</td><td>40</td><td>United-States</td><td>&lt;=50K</td><td>0</td></tr>\n",
       "\t<tr><td>53</td><td><span style=white-space:pre-wrap>Private         </span></td><td> 7</td><td>Handlers-cleaners</td><td><span style=white-space:pre-wrap>Husband      </span></td><td>Black</td><td>Male</td><td>40</td><td>United-States</td><td>&lt;=50K</td><td>0</td></tr>\n",
       "\t<tr><td>⋮</td><td>⋮</td><td>⋮</td><td>⋮</td><td>⋮</td><td>⋮</td><td>⋮</td><td>⋮</td><td>⋮</td><td>⋮</td><td>⋮</td></tr>\n",
       "\t<tr><td>58</td><td><span style=white-space:pre-wrap>Private     </span></td><td>9</td><td><span style=white-space:pre-wrap>Adm-clerical   </span></td><td>Unmarried</td><td>White</td><td>Female</td><td>40</td><td>United-States</td><td>&lt;=50K</td><td><span style=white-space:pre-wrap>    0</span></td></tr>\n",
       "\t<tr><td>22</td><td><span style=white-space:pre-wrap>Private     </span></td><td>9</td><td><span style=white-space:pre-wrap>Adm-clerical   </span></td><td>Own-child</td><td>White</td><td><span style=white-space:pre-wrap>Male  </span></td><td>20</td><td>United-States</td><td>&lt;=50K</td><td><span style=white-space:pre-wrap>    0</span></td></tr>\n",
       "\t<tr><td>52</td><td>Self-emp-inc</td><td>9</td><td>Exec-managerial</td><td><span style=white-space:pre-wrap>Wife     </span></td><td>White</td><td>Female</td><td>40</td><td>United-States</td><td>&gt;50K </td><td>15024</td></tr>\n",
       "</tbody>\n",
       "</table>\n"
      ],
      "text/latex": [
       "A tibble: 32560 × 11\n",
       "\\begin{tabular}{lllllllllll}\n",
       " age & workclass & education\\_num & occupation & relationship & race & sex & hours\\_per\\_week & native\\_country & income & total\\_capital\\\\\n",
       " <dbl> & <fct> & <dbl> & <fct> & <fct> & <fct> & <fct> & <dbl> & <fct> & <fct> & <dbl>\\\\\n",
       "\\hline\n",
       "\t 50 & Self-emp-not-inc & 13 & Exec-managerial   & Husband       & White & Male & 13 & United-States & <=50K & 0\\\\\n",
       "\t 38 & Private          &  9 & Handlers-cleaners & Not-in-family & White & Male & 40 & United-States & <=50K & 0\\\\\n",
       "\t 53 & Private          &  7 & Handlers-cleaners & Husband       & Black & Male & 40 & United-States & <=50K & 0\\\\\n",
       "\t ⋮ & ⋮ & ⋮ & ⋮ & ⋮ & ⋮ & ⋮ & ⋮ & ⋮ & ⋮ & ⋮\\\\\n",
       "\t 58 & Private      & 9 & Adm-clerical    & Unmarried & White & Female & 40 & United-States & <=50K &     0\\\\\n",
       "\t 22 & Private      & 9 & Adm-clerical    & Own-child & White & Male   & 20 & United-States & <=50K &     0\\\\\n",
       "\t 52 & Self-emp-inc & 9 & Exec-managerial & Wife      & White & Female & 40 & United-States & >50K  & 15024\\\\\n",
       "\\end{tabular}\n"
      ],
      "text/markdown": [
       "\n",
       "A tibble: 32560 × 11\n",
       "\n",
       "| age &lt;dbl&gt; | workclass &lt;fct&gt; | education_num &lt;dbl&gt; | occupation &lt;fct&gt; | relationship &lt;fct&gt; | race &lt;fct&gt; | sex &lt;fct&gt; | hours_per_week &lt;dbl&gt; | native_country &lt;fct&gt; | income &lt;fct&gt; | total_capital &lt;dbl&gt; |\n",
       "|---|---|---|---|---|---|---|---|---|---|---|\n",
       "| 50 | Self-emp-not-inc | 13 | Exec-managerial   | Husband       | White | Male | 13 | United-States | &lt;=50K | 0 |\n",
       "| 38 | Private          |  9 | Handlers-cleaners | Not-in-family | White | Male | 40 | United-States | &lt;=50K | 0 |\n",
       "| 53 | Private          |  7 | Handlers-cleaners | Husband       | Black | Male | 40 | United-States | &lt;=50K | 0 |\n",
       "| ⋮ | ⋮ | ⋮ | ⋮ | ⋮ | ⋮ | ⋮ | ⋮ | ⋮ | ⋮ | ⋮ |\n",
       "| 58 | Private      | 9 | Adm-clerical    | Unmarried | White | Female | 40 | United-States | &lt;=50K |     0 |\n",
       "| 22 | Private      | 9 | Adm-clerical    | Own-child | White | Male   | 20 | United-States | &lt;=50K |     0 |\n",
       "| 52 | Self-emp-inc | 9 | Exec-managerial | Wife      | White | Female | 40 | United-States | &gt;50K  | 15024 |\n",
       "\n"
      ],
      "text/plain": [
       "      age workclass        education_num occupation        relationship  race \n",
       "1     50  Self-emp-not-inc 13            Exec-managerial   Husband       White\n",
       "2     38  Private           9            Handlers-cleaners Not-in-family White\n",
       "3     53  Private           7            Handlers-cleaners Husband       Black\n",
       "⋮     ⋮   ⋮                ⋮             ⋮                 ⋮             ⋮    \n",
       "32558 58  Private          9             Adm-clerical      Unmarried     White\n",
       "32559 22  Private          9             Adm-clerical      Own-child     White\n",
       "32560 52  Self-emp-inc     9             Exec-managerial   Wife          White\n",
       "      sex    hours_per_week native_country income total_capital\n",
       "1     Male   13             United-States  <=50K  0            \n",
       "2     Male   40             United-States  <=50K  0            \n",
       "3     Male   40             United-States  <=50K  0            \n",
       "⋮     ⋮      ⋮              ⋮              ⋮      ⋮            \n",
       "32558 Female 40             United-States  <=50K      0        \n",
       "32559 Male   20             United-States  <=50K      0        \n",
       "32560 Female 40             United-States  >50K   15024        "
      ]
     },
     "metadata": {},
     "output_type": "display_data"
    }
   ],
   "source": [
    "# Changing capital_gain and capita_loss into total_capital, and removing irrelevant predictors\n",
    "data_select <- data %>%\n",
    "mutate(total_capital = capital_gain - capital_loss) %>%\n",
    "select(-education, -fnlwgt, -marital_status, -capital_gain, -capital_loss)\n",
    "\n",
    "# Changing data type of some predictors to factor \n",
    "data_new <- mutate(data_select, workclass = as.factor(workclass),\n",
    "                   occupation = as.factor(occupation),\n",
    "                   relationship = as.factor(relationship),\n",
    "                   race = as.factor(race),\n",
    "                   sex = as.factor(sex),\n",
    "                   native_country = as.factor(native_country),\n",
    "                   income = as.factor(income))\n",
    "data_new"
   ]
  },
  {
   "cell_type": "code",
   "execution_count": 24,
   "metadata": {},
   "outputs": [
    {
     "data": {
      "text/html": [
       "0"
      ],
      "text/latex": [
       "0"
      ],
      "text/markdown": [
       "0"
      ],
      "text/plain": [
       "[1] 0"
      ]
     },
     "metadata": {},
     "output_type": "display_data"
    }
   ],
   "source": [
    "# We can use the function below to identify whether there are NA's in our dataset\n",
    "sum(is.na(data_new))"
   ]
  },
  {
   "cell_type": "code",
   "execution_count": 25,
   "metadata": {},
   "outputs": [],
   "source": [
    "# Split the data into a training set and a testing set, with 75% of the data going into the former\n",
    "data_split <- initial_split(data_new, prop = 0.75, strata = income)\n",
    "data_train <- training(data_split)\n",
    "data_test <- testing(data_split)"
   ]
  },
  {
   "cell_type": "code",
   "execution_count": 26,
   "metadata": {
    "scrolled": true
   },
   "outputs": [
    {
     "name": "stderr",
     "output_type": "stream",
     "text": [
      "`summarise()` ungrouping output (override with `.groups` argument)\n",
      "\n"
     ]
    },
    {
     "data": {
      "text/html": [
       "<table>\n",
       "<caption>A tibble: 1 × 4</caption>\n",
       "<thead>\n",
       "\t<tr><th scope=col>income</th><th scope=col>high_education</th><th scope=col>high_age</th><th scope=col>high_hours</th></tr>\n",
       "\t<tr><th scope=col>&lt;fct&gt;</th><th scope=col>&lt;dbl&gt;</th><th scope=col>&lt;dbl&gt;</th><th scope=col>&lt;dbl&gt;</th></tr>\n",
       "</thead>\n",
       "<tbody>\n",
       "\t<tr><td>&gt;50K</td><td>11.63033</td><td>44.23976</td><td>45.40316</td></tr>\n",
       "</tbody>\n",
       "</table>\n"
      ],
      "text/latex": [
       "A tibble: 1 × 4\n",
       "\\begin{tabular}{llll}\n",
       " income & high\\_education & high\\_age & high\\_hours\\\\\n",
       " <fct> & <dbl> & <dbl> & <dbl>\\\\\n",
       "\\hline\n",
       "\t >50K & 11.63033 & 44.23976 & 45.40316\\\\\n",
       "\\end{tabular}\n"
      ],
      "text/markdown": [
       "\n",
       "A tibble: 1 × 4\n",
       "\n",
       "| income &lt;fct&gt; | high_education &lt;dbl&gt; | high_age &lt;dbl&gt; | high_hours &lt;dbl&gt; |\n",
       "|---|---|---|---|\n",
       "| &gt;50K | 11.63033 | 44.23976 | 45.40316 |\n",
       "\n"
      ],
      "text/plain": [
       "  income high_education high_age high_hours\n",
       "1 >50K   11.63033       44.23976 45.40316  "
      ]
     },
     "metadata": {},
     "output_type": "display_data"
    },
    {
     "name": "stderr",
     "output_type": "stream",
     "text": [
      "`summarise()` ungrouping output (override with `.groups` argument)\n",
      "\n"
     ]
    },
    {
     "data": {
      "text/html": [
       "<table>\n",
       "<caption>A tibble: 1 × 4</caption>\n",
       "<thead>\n",
       "\t<tr><th scope=col>income</th><th scope=col>low_education</th><th scope=col>low_age</th><th scope=col>low_hours</th></tr>\n",
       "\t<tr><th scope=col>&lt;fct&gt;</th><th scope=col>&lt;dbl&gt;</th><th scope=col>&lt;dbl&gt;</th><th scope=col>&lt;dbl&gt;</th></tr>\n",
       "</thead>\n",
       "<tbody>\n",
       "\t<tr><td>&lt;=50K</td><td>9.598652</td><td>36.79471</td><td>38.86537</td></tr>\n",
       "</tbody>\n",
       "</table>\n"
      ],
      "text/latex": [
       "A tibble: 1 × 4\n",
       "\\begin{tabular}{llll}\n",
       " income & low\\_education & low\\_age & low\\_hours\\\\\n",
       " <fct> & <dbl> & <dbl> & <dbl>\\\\\n",
       "\\hline\n",
       "\t <=50K & 9.598652 & 36.79471 & 38.86537\\\\\n",
       "\\end{tabular}\n"
      ],
      "text/markdown": [
       "\n",
       "A tibble: 1 × 4\n",
       "\n",
       "| income &lt;fct&gt; | low_education &lt;dbl&gt; | low_age &lt;dbl&gt; | low_hours &lt;dbl&gt; |\n",
       "|---|---|---|---|\n",
       "| &lt;=50K | 9.598652 | 36.79471 | 38.86537 |\n",
       "\n"
      ],
      "text/plain": [
       "  income low_education low_age  low_hours\n",
       "1 <=50K  9.598652      36.79471 38.86537 "
      ]
     },
     "metadata": {},
     "output_type": "display_data"
    }
   ],
   "source": [
    "# Tibble for individuals making >50K\n",
    "over_50 <- data_train %>%\n",
    "filter(income == \">50K\") %>%\n",
    "group_by(income) %>%\n",
    "summarize(high_education = mean(education_num, na.rm = TRUE),\n",
    "          high_age = mean(age, na.rm = TRUE),\n",
    "          high_hours = mean(hours_per_week, na.rm = TRUE))\n",
    "over_50\n",
    "\n",
    "# Tibble for individuals making <=50K\n",
    "under_50 <- data_train %>%\n",
    "filter(income == \"<=50K\") %>%\n",
    "group_by(income) %>%\n",
    "summarize(low_education = mean(education_num, na.rm = TRUE),\n",
    "          low_age = mean(age, na.rm = TRUE),\n",
    "          low_hours = mean(hours_per_week, na.rm = TRUE))\n",
    "under_50"
   ]
  },
  {
   "cell_type": "code",
   "execution_count": 27,
   "metadata": {
    "scrolled": false
   },
   "outputs": [
    {
     "data": {
      "image/png": "[encoded data removed]",
      "text/plain": [
       "plot without title"
      ]
     },
     "metadata": {
      "image/png": {
       "height": 480,
       "width": 600
      }
     },
     "output_type": "display_data"
    }
   ],
   "source": [
    "# Proportion of income by sex\n",
    "gender_proportion_plot <- data_train %>%\n",
    "    ggplot(aes(x = sex, fill = income)) +\n",
    "    geom_bar(position = \"fill\") +\n",
    "    xlab(\"Sex\") +\n",
    "    ylab(\"Proportion of Income\") +\n",
    "    labs(fill = \"Income\") +\n",
    "    ggtitle(\"Proportion of Income by Sex\")\n",
    "gender_proportion_plot\n"
   ]
  },
  {
   "cell_type": "code",
   "execution_count": 28,
   "metadata": {},
   "outputs": [
    {
     "name": "stderr",
     "output_type": "stream",
     "text": [
      "`summarise()` ungrouping output (override with `.groups` argument)\n",
      "\n"
     ]
    },
    {
     "data": {
      "text/html": [
       "<table>\n",
       "<caption>A tibble: 5 × 2</caption>\n",
       "<thead>\n",
       "\t<tr><th scope=col>race</th><th scope=col>n</th></tr>\n",
       "\t<tr><th scope=col>&lt;fct&gt;</th><th scope=col>&lt;int&gt;</th></tr>\n",
       "</thead>\n",
       "<tbody>\n",
       "\t<tr><td>Amer-Indian-Eskimo</td><td>  228</td></tr>\n",
       "\t<tr><td>Asian-Pac-Islander</td><td>  781</td></tr>\n",
       "\t<tr><td>Black             </td><td> 2364</td></tr>\n",
       "\t<tr><td>Other             </td><td>  210</td></tr>\n",
       "\t<tr><td>White             </td><td>20838</td></tr>\n",
       "</tbody>\n",
       "</table>\n"
      ],
      "text/latex": [
       "A tibble: 5 × 2\n",
       "\\begin{tabular}{ll}\n",
       " race & n\\\\\n",
       " <fct> & <int>\\\\\n",
       "\\hline\n",
       "\t Amer-Indian-Eskimo &   228\\\\\n",
       "\t Asian-Pac-Islander &   781\\\\\n",
       "\t Black              &  2364\\\\\n",
       "\t Other              &   210\\\\\n",
       "\t White              & 20838\\\\\n",
       "\\end{tabular}\n"
      ],
      "text/markdown": [
       "\n",
       "A tibble: 5 × 2\n",
       "\n",
       "| race &lt;fct&gt; | n &lt;int&gt; |\n",
       "|---|---|\n",
       "| Amer-Indian-Eskimo |   228 |\n",
       "| Asian-Pac-Islander |   781 |\n",
       "| Black              |  2364 |\n",
       "| Other              |   210 |\n",
       "| White              | 20838 |\n",
       "\n"
      ],
      "text/plain": [
       "  race               n    \n",
       "1 Amer-Indian-Eskimo   228\n",
       "2 Asian-Pac-Islander   781\n",
       "3 Black               2364\n",
       "4 Other                210\n",
       "5 White              20838"
      ]
     },
     "metadata": {},
     "output_type": "display_data"
    },
    {
     "data": {
      "image/png": "[encoded data removed]",
      "text/plain": [
       "plot without title"
      ]
     },
     "metadata": {
      "image/png": {
       "height": 480,
       "width": 600
      }
     },
     "output_type": "display_data"
    }
   ],
   "source": [
    "# Number of each race surveyed\n",
    "options(repr.plot.width = 10, repr.plot.height = 8)\n",
    "race_counts <- data_train %>%\n",
    "    group_by(race) %>%\n",
    "    summarize(n = n())\n",
    "race_counts\n",
    "\n",
    "# Proportion of income by race\n",
    "race_proportion_plot <- data_train %>%\n",
    "    ggplot(aes(x = race, fill = income)) +\n",
    "    geom_bar(position = \"fill\") +\n",
    "    xlab(\"Race\") +\n",
    "    ylab(\"Proportion of Income\") +\n",
    "    labs(fill = \"Income\") +\n",
    "    ggtitle(\"Proportion of Income by Race\")\n",
    "race_proportion_plot\n"
   ]
  },
  {
   "cell_type": "markdown",
   "metadata": {},
   "source": [
    "## Method"
   ]
  },
  {
   "cell_type": "markdown",
   "metadata": {},
   "source": [
    "Since the predictions that we want are based on categorical variables, we will use the K-nearest neighbour classification algorithm.\n",
    "\n",
    "We first split the data into a training and testing set, which is important when evaluating the trustworthiness of the model. Furthermore, we must also preprocess the data such that it is all standardized. It is important to do this only for the training set as we do not want our testing data to have any impact on how the model is trained.\n",
    "\n",
    "Then, the classifier will be tuned and a 5-fold cross validation, which determines the most accurate value for K such that no overfitting or underfitting occurs. With this K value, predictions can then be made using the algorithm.\n",
    "\n",
    "One way that we can visualize the results would be to have stacked bar graphs with the x-axis being a given predictor and the y-axis being the proportion of people with an income level of >50K or <=50K. This is because there are more than two predictors, and 3-D visualizations are not effective for this type.\n",
    "\n",
    "The predictors that we are planning on using are `education_num`, `age`, `hours_per_week`, `race` and `sex` (mentioned above)."
   ]
  },
  {
   "cell_type": "markdown",
   "metadata": {},
   "source": [
    "## Expected Outcomes and Significance"
   ]
  },
  {
   "cell_type": "markdown",
   "metadata": {},
   "source": [
    "Given data corresponding to the predetermined predictors, we expect that our classification model can generate an accurate prediction: whether a person makes over or under 50K. \n",
    "\n",
    "The impact of such findings has real world applications. For instance, if it was found that most people with an `education_num` above a certain value made >50K a year, a positive correlation can be determined. From this, a government could choose to increase funding to the education sector to promote economic growth. Conversely, if it was found that most people above a certain age made <=50K year, governments and companies could make adjustments to pension plans or retirement plans to support the older generation, among other things. We can take this further by analyzing some of the predictors themselves, particularly `race` and `sex`, to view the relationship between race and gender, and wealth disparity in order to observe inequality in society."
   ]
  },
  {
   "cell_type": "markdown",
   "metadata": {},
   "source": [
    "Sources: \n",
    "\n",
    "https://www.salary.com/articles/eight-factors-that-can-affect-your-pay/\n",
    "\n",
    "https://blog.northernbirchcu.com/2017/01/06/income-essentials-what-factors-effect-your-income/"
   ]
  }
 ],
 "metadata": {
  "kernelspec": {
   "display_name": "R",
   "language": "R",
   "name": "ir"
  },
  "language_info": {
   "codemirror_mode": "r",
   "file_extension": ".r",
   "mimetype": "text/x-r-source",
   "name": "R",
   "pygments_lexer": "r",
   "version": "4.0.0"
  }
 },
 "nbformat": 4,
 "nbformat_minor": 4
}
