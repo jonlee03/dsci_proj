{
 "cells": [
  {
   "cell_type": "code",
   "execution_count": 1,
   "id": "2d875d73-52bb-4937-bdc9-a84878eab6e6",
   "metadata": {},
   "outputs": [
    {
     "name": "stderr",
     "output_type": "stream",
     "text": [
      "── \u001b[1mAttaching packages\u001b[22m ─────────────────────────────────────── tidyverse 1.3.1 ──\n",
      "\n",
      "\u001b[32m✔\u001b[39m \u001b[34mggplot2\u001b[39m 3.3.5     \u001b[32m✔\u001b[39m \u001b[34mpurrr  \u001b[39m 0.3.4\n",
      "\u001b[32m✔\u001b[39m \u001b[34mtibble \u001b[39m 3.1.4     \u001b[32m✔\u001b[39m \u001b[34mdplyr  \u001b[39m 1.0.7\n",
      "\u001b[32m✔\u001b[39m \u001b[34mtidyr  \u001b[39m 1.1.3     \u001b[32m✔\u001b[39m \u001b[34mstringr\u001b[39m 1.4.0\n",
      "\u001b[32m✔\u001b[39m \u001b[34mreadr  \u001b[39m 2.0.1     \u001b[32m✔\u001b[39m \u001b[34mforcats\u001b[39m 0.5.1\n",
      "\n",
      "── \u001b[1mConflicts\u001b[22m ────────────────────────────────────────── tidyverse_conflicts() ──\n",
      "\u001b[31m✖\u001b[39m \u001b[34mdplyr\u001b[39m::\u001b[32mfilter()\u001b[39m masks \u001b[34mstats\u001b[39m::filter()\n",
      "\u001b[31m✖\u001b[39m \u001b[34mdplyr\u001b[39m::\u001b[32mlag()\u001b[39m    masks \u001b[34mstats\u001b[39m::lag()\n",
      "\n",
      "Registered S3 method overwritten by 'tune':\n",
      "  method                   from   \n",
      "  required_pkgs.model_spec parsnip\n",
      "\n",
      "── \u001b[1mAttaching packages\u001b[22m ────────────────────────────────────── tidymodels 0.1.3 ──\n",
      "\n",
      "\u001b[32m✔\u001b[39m \u001b[34mbroom       \u001b[39m 0.7.9      \u001b[32m✔\u001b[39m \u001b[34mrsample     \u001b[39m 0.1.0 \n",
      "\u001b[32m✔\u001b[39m \u001b[34mdials       \u001b[39m 0.0.9      \u001b[32m✔\u001b[39m \u001b[34mtune        \u001b[39m 0.1.6 \n",
      "\u001b[32m✔\u001b[39m \u001b[34minfer       \u001b[39m 1.0.0      \u001b[32m✔\u001b[39m \u001b[34mworkflows   \u001b[39m 0.2.3 \n",
      "\u001b[32m✔\u001b[39m \u001b[34mmodeldata   \u001b[39m 0.1.1      \u001b[32m✔\u001b[39m \u001b[34mworkflowsets\u001b[39m 0.1.0 \n",
      "\u001b[32m✔\u001b[39m \u001b[34mparsnip     \u001b[39m 0.1.7      \u001b[32m✔\u001b[39m \u001b[34myardstick   \u001b[39m 0.0.8 \n",
      "\u001b[32m✔\u001b[39m \u001b[34mrecipes     \u001b[39m 0.1.16     \n",
      "\n",
      "── \u001b[1mConflicts\u001b[22m ───────────────────────────────────────── tidymodels_conflicts() ──\n",
      "\u001b[31m✖\u001b[39m \u001b[34mscales\u001b[39m::\u001b[32mdiscard()\u001b[39m masks \u001b[34mpurrr\u001b[39m::discard()\n",
      "\u001b[31m✖\u001b[39m \u001b[34mdplyr\u001b[39m::\u001b[32mfilter()\u001b[39m   masks \u001b[34mstats\u001b[39m::filter()\n",
      "\u001b[31m✖\u001b[39m \u001b[34mrecipes\u001b[39m::\u001b[32mfixed()\u001b[39m  masks \u001b[34mstringr\u001b[39m::fixed()\n",
      "\u001b[31m✖\u001b[39m \u001b[34mdplyr\u001b[39m::\u001b[32mlag()\u001b[39m      masks \u001b[34mstats\u001b[39m::lag()\n",
      "\u001b[31m✖\u001b[39m \u001b[34myardstick\u001b[39m::\u001b[32mspec()\u001b[39m masks \u001b[34mreadr\u001b[39m::spec()\n",
      "\u001b[31m✖\u001b[39m \u001b[34mrecipes\u001b[39m::\u001b[32mstep()\u001b[39m   masks \u001b[34mstats\u001b[39m::step()\n",
      "\u001b[34m•\u001b[39m Use \u001b[32mtidymodels_prefer()\u001b[39m to resolve common conflicts.\n",
      "\n"
     ]
    }
   ],
   "source": [
    "#load library\n",
    "library(repr)\n",
    "library(tidyverse)\n",
    "library(tidymodels)\n",
    "options(repr.matrix.max.rows = 6)"
   ]
  },
  {
   "cell_type": "code",
   "execution_count": 2,
   "id": "06a6e08f-64d8-4f8e-878c-4254a6481b14",
   "metadata": {},
   "outputs": [],
   "source": [
    "# Set the seed\n",
    "set.seed(69)"
   ]
  },
  {
   "cell_type": "code",
   "execution_count": 3,
   "id": "24278304-66a2-40d8-ab14-7b24ac8a1fb1",
   "metadata": {},
   "outputs": [
    {
     "name": "stderr",
     "output_type": "stream",
     "text": [
      "\u001b[1m\u001b[1mRows: \u001b[1m\u001b[22m\u001b[34m\u001b[34m32560\u001b[34m\u001b[39m \u001b[1m\u001b[1mColumns: \u001b[1m\u001b[22m\u001b[34m\u001b[34m15\u001b[34m\u001b[39m\n",
      "\n",
      "\u001b[36m──\u001b[39m \u001b[1m\u001b[1mColumn specification\u001b[1m\u001b[22m \u001b[36m────────────────────────────────────────────────────────\u001b[39m\n",
      "\u001b[1mDelimiter:\u001b[22m \",\"\n",
      "\u001b[31mchr\u001b[39m (9): State-gov, Bachelors, Never-married, Adm-clerical, Not-in-family, W...\n",
      "\u001b[32mdbl\u001b[39m (6): 39, 77516, 13, 2174, 0, 40\n",
      "\n",
      "\n",
      "\u001b[36mℹ\u001b[39m Use \u001b[30m\u001b[47m\u001b[30m\u001b[47m`spec()`\u001b[47m\u001b[30m\u001b[49m\u001b[39m to retrieve the full column specification for this data.\n",
      "\u001b[36mℹ\u001b[39m Specify the column types or set \u001b[30m\u001b[47m\u001b[30m\u001b[47m`show_col_types = FALSE`\u001b[47m\u001b[30m\u001b[49m\u001b[39m to quiet this message.\n",
      "\n"
     ]
    },
    {
     "data": {
      "text/html": [
       "<table class=\"dataframe\">\n",
       "<caption>A spec_tbl_df: 32560 × 15</caption>\n",
       "<thead>\n",
       "\t<tr><th scope=col>age</th><th scope=col>workclass</th><th scope=col>fnlwgt</th><th scope=col>education</th><th scope=col>education_num</th><th scope=col>marital_status</th><th scope=col>occupation</th><th scope=col>relationship</th><th scope=col>race</th><th scope=col>sex</th><th scope=col>capital_gain</th><th scope=col>capital_loss</th><th scope=col>hours_per_week</th><th scope=col>native_country</th><th scope=col>income</th></tr>\n",
       "\t<tr><th scope=col>&lt;dbl&gt;</th><th scope=col>&lt;chr&gt;</th><th scope=col>&lt;dbl&gt;</th><th scope=col>&lt;chr&gt;</th><th scope=col>&lt;dbl&gt;</th><th scope=col>&lt;chr&gt;</th><th scope=col>&lt;chr&gt;</th><th scope=col>&lt;chr&gt;</th><th scope=col>&lt;chr&gt;</th><th scope=col>&lt;chr&gt;</th><th scope=col>&lt;dbl&gt;</th><th scope=col>&lt;dbl&gt;</th><th scope=col>&lt;dbl&gt;</th><th scope=col>&lt;chr&gt;</th><th scope=col>&lt;chr&gt;</th></tr>\n",
       "</thead>\n",
       "<tbody>\n",
       "\t<tr><td>50</td><td>Self-emp-not-inc</td><td> 83311</td><td>Bachelors</td><td>13</td><td>Married-civ-spouse</td><td><span style=white-space:pre-wrap>Exec-managerial  </span></td><td><span style=white-space:pre-wrap>Husband      </span></td><td>White</td><td>Male</td><td>0</td><td>0</td><td>13</td><td>United-States</td><td>&lt;=50K</td></tr>\n",
       "\t<tr><td>38</td><td><span style=white-space:pre-wrap>Private         </span></td><td>215646</td><td><span style=white-space:pre-wrap>HS-grad  </span></td><td> 9</td><td><span style=white-space:pre-wrap>Divorced          </span></td><td>Handlers-cleaners</td><td>Not-in-family</td><td>White</td><td>Male</td><td>0</td><td>0</td><td>40</td><td>United-States</td><td>&lt;=50K</td></tr>\n",
       "\t<tr><td>53</td><td><span style=white-space:pre-wrap>Private         </span></td><td>234721</td><td><span style=white-space:pre-wrap>11th     </span></td><td> 7</td><td>Married-civ-spouse</td><td>Handlers-cleaners</td><td><span style=white-space:pre-wrap>Husband      </span></td><td>Black</td><td>Male</td><td>0</td><td>0</td><td>40</td><td>United-States</td><td>&lt;=50K</td></tr>\n",
       "\t<tr><td>⋮</td><td>⋮</td><td>⋮</td><td>⋮</td><td>⋮</td><td>⋮</td><td>⋮</td><td>⋮</td><td>⋮</td><td>⋮</td><td>⋮</td><td>⋮</td><td>⋮</td><td>⋮</td><td>⋮</td></tr>\n",
       "\t<tr><td>58</td><td><span style=white-space:pre-wrap>Private     </span></td><td>151910</td><td>HS-grad</td><td>9</td><td><span style=white-space:pre-wrap>Widowed           </span></td><td><span style=white-space:pre-wrap>Adm-clerical   </span></td><td>Unmarried</td><td>White</td><td>Female</td><td><span style=white-space:pre-wrap>    0</span></td><td>0</td><td>40</td><td>United-States</td><td>&lt;=50K</td></tr>\n",
       "\t<tr><td>22</td><td><span style=white-space:pre-wrap>Private     </span></td><td>201490</td><td>HS-grad</td><td>9</td><td><span style=white-space:pre-wrap>Never-married     </span></td><td><span style=white-space:pre-wrap>Adm-clerical   </span></td><td>Own-child</td><td>White</td><td><span style=white-space:pre-wrap>Male  </span></td><td><span style=white-space:pre-wrap>    0</span></td><td>0</td><td>20</td><td>United-States</td><td>&lt;=50K</td></tr>\n",
       "\t<tr><td>52</td><td>Self-emp-inc</td><td>287927</td><td>HS-grad</td><td>9</td><td>Married-civ-spouse</td><td>Exec-managerial</td><td><span style=white-space:pre-wrap>Wife     </span></td><td>White</td><td>Female</td><td>15024</td><td>0</td><td>40</td><td>United-States</td><td>&gt;50K </td></tr>\n",
       "</tbody>\n",
       "</table>\n"
      ],
      "text/latex": [
       "A spec\\_tbl\\_df: 32560 × 15\n",
       "\\begin{tabular}{lllllllllllllll}\n",
       " age & workclass & fnlwgt & education & education\\_num & marital\\_status & occupation & relationship & race & sex & capital\\_gain & capital\\_loss & hours\\_per\\_week & native\\_country & income\\\\\n",
       " <dbl> & <chr> & <dbl> & <chr> & <dbl> & <chr> & <chr> & <chr> & <chr> & <chr> & <dbl> & <dbl> & <dbl> & <chr> & <chr>\\\\\n",
       "\\hline\n",
       "\t 50 & Self-emp-not-inc &  83311 & Bachelors & 13 & Married-civ-spouse & Exec-managerial   & Husband       & White & Male & 0 & 0 & 13 & United-States & <=50K\\\\\n",
       "\t 38 & Private          & 215646 & HS-grad   &  9 & Divorced           & Handlers-cleaners & Not-in-family & White & Male & 0 & 0 & 40 & United-States & <=50K\\\\\n",
       "\t 53 & Private          & 234721 & 11th      &  7 & Married-civ-spouse & Handlers-cleaners & Husband       & Black & Male & 0 & 0 & 40 & United-States & <=50K\\\\\n",
       "\t ⋮ & ⋮ & ⋮ & ⋮ & ⋮ & ⋮ & ⋮ & ⋮ & ⋮ & ⋮ & ⋮ & ⋮ & ⋮ & ⋮ & ⋮\\\\\n",
       "\t 58 & Private      & 151910 & HS-grad & 9 & Widowed            & Adm-clerical    & Unmarried & White & Female &     0 & 0 & 40 & United-States & <=50K\\\\\n",
       "\t 22 & Private      & 201490 & HS-grad & 9 & Never-married      & Adm-clerical    & Own-child & White & Male   &     0 & 0 & 20 & United-States & <=50K\\\\\n",
       "\t 52 & Self-emp-inc & 287927 & HS-grad & 9 & Married-civ-spouse & Exec-managerial & Wife      & White & Female & 15024 & 0 & 40 & United-States & >50K \\\\\n",
       "\\end{tabular}\n"
      ],
      "text/markdown": [
       "\n",
       "A spec_tbl_df: 32560 × 15\n",
       "\n",
       "| age &lt;dbl&gt; | workclass &lt;chr&gt; | fnlwgt &lt;dbl&gt; | education &lt;chr&gt; | education_num &lt;dbl&gt; | marital_status &lt;chr&gt; | occupation &lt;chr&gt; | relationship &lt;chr&gt; | race &lt;chr&gt; | sex &lt;chr&gt; | capital_gain &lt;dbl&gt; | capital_loss &lt;dbl&gt; | hours_per_week &lt;dbl&gt; | native_country &lt;chr&gt; | income &lt;chr&gt; |\n",
       "|---|---|---|---|---|---|---|---|---|---|---|---|---|---|---|\n",
       "| 50 | Self-emp-not-inc |  83311 | Bachelors | 13 | Married-civ-spouse | Exec-managerial   | Husband       | White | Male | 0 | 0 | 13 | United-States | &lt;=50K |\n",
       "| 38 | Private          | 215646 | HS-grad   |  9 | Divorced           | Handlers-cleaners | Not-in-family | White | Male | 0 | 0 | 40 | United-States | &lt;=50K |\n",
       "| 53 | Private          | 234721 | 11th      |  7 | Married-civ-spouse | Handlers-cleaners | Husband       | Black | Male | 0 | 0 | 40 | United-States | &lt;=50K |\n",
       "| ⋮ | ⋮ | ⋮ | ⋮ | ⋮ | ⋮ | ⋮ | ⋮ | ⋮ | ⋮ | ⋮ | ⋮ | ⋮ | ⋮ | ⋮ |\n",
       "| 58 | Private      | 151910 | HS-grad | 9 | Widowed            | Adm-clerical    | Unmarried | White | Female |     0 | 0 | 40 | United-States | &lt;=50K |\n",
       "| 22 | Private      | 201490 | HS-grad | 9 | Never-married      | Adm-clerical    | Own-child | White | Male   |     0 | 0 | 20 | United-States | &lt;=50K |\n",
       "| 52 | Self-emp-inc | 287927 | HS-grad | 9 | Married-civ-spouse | Exec-managerial | Wife      | White | Female | 15024 | 0 | 40 | United-States | &gt;50K  |\n",
       "\n"
      ],
      "text/plain": [
       "      age workclass        fnlwgt education education_num marital_status    \n",
       "1     50  Self-emp-not-inc  83311 Bachelors 13            Married-civ-spouse\n",
       "2     38  Private          215646 HS-grad    9            Divorced          \n",
       "3     53  Private          234721 11th       7            Married-civ-spouse\n",
       "⋮     ⋮   ⋮                ⋮      ⋮         ⋮             ⋮                 \n",
       "32558 58  Private          151910 HS-grad   9             Widowed           \n",
       "32559 22  Private          201490 HS-grad   9             Never-married     \n",
       "32560 52  Self-emp-inc     287927 HS-grad   9             Married-civ-spouse\n",
       "      occupation        relationship  race  sex    capital_gain capital_loss\n",
       "1     Exec-managerial   Husband       White Male   0            0           \n",
       "2     Handlers-cleaners Not-in-family White Male   0            0           \n",
       "3     Handlers-cleaners Husband       Black Male   0            0           \n",
       "⋮     ⋮                 ⋮             ⋮     ⋮      ⋮            ⋮           \n",
       "32558 Adm-clerical      Unmarried     White Female     0        0           \n",
       "32559 Adm-clerical      Own-child     White Male       0        0           \n",
       "32560 Exec-managerial   Wife          White Female 15024        0           \n",
       "      hours_per_week native_country income\n",
       "1     13             United-States  <=50K \n",
       "2     40             United-States  <=50K \n",
       "3     40             United-States  <=50K \n",
       "⋮     ⋮              ⋮              ⋮     \n",
       "32558 40             United-States  <=50K \n",
       "32559 20             United-States  <=50K \n",
       "32560 40             United-States  >50K  "
      ]
     },
     "metadata": {},
     "output_type": "display_data"
    }
   ],
   "source": [
    "# Data is read and column names are assigned\n",
    "data <- read_csv('https://archive.ics.uci.edu/ml/machine-learning-databases/adult/adult.data')\n",
    "colnames(data) <- c('age', 'workclass', 'fnlwgt', 'education', \n",
    "                     'education_num', 'marital_status', 'occupation', 'relationship', 'race', 'sex', \n",
    "                     'capital_gain', 'capital_loss', 'hours_per_week', 'native_country', 'income')\n",
    "data"
   ]
  },
  {
   "cell_type": "code",
   "execution_count": 7,
   "id": "42679a9e-5a52-419c-9b35-adf2a5f7740d",
   "metadata": {},
   "outputs": [
    {
     "data": {
      "text/html": [
       "<table class=\"dataframe\">\n",
       "<caption>A tibble: 32560 × 4</caption>\n",
       "<thead>\n",
       "\t<tr><th scope=col>hours_per_week</th><th scope=col>education_num</th><th scope=col>age</th><th scope=col>income</th></tr>\n",
       "\t<tr><th scope=col>&lt;dbl&gt;</th><th scope=col>&lt;dbl&gt;</th><th scope=col>&lt;dbl&gt;</th><th scope=col>&lt;fct&gt;</th></tr>\n",
       "</thead>\n",
       "<tbody>\n",
       "\t<tr><td>13</td><td>13</td><td>50</td><td>&lt;=50K</td></tr>\n",
       "\t<tr><td>40</td><td> 9</td><td>38</td><td>&lt;=50K</td></tr>\n",
       "\t<tr><td>40</td><td> 7</td><td>53</td><td>&lt;=50K</td></tr>\n",
       "\t<tr><td>⋮</td><td>⋮</td><td>⋮</td><td>⋮</td></tr>\n",
       "\t<tr><td>40</td><td>9</td><td>58</td><td>&lt;=50K</td></tr>\n",
       "\t<tr><td>20</td><td>9</td><td>22</td><td>&lt;=50K</td></tr>\n",
       "\t<tr><td>40</td><td>9</td><td>52</td><td>&gt;50K </td></tr>\n",
       "</tbody>\n",
       "</table>\n"
      ],
      "text/latex": [
       "A tibble: 32560 × 4\n",
       "\\begin{tabular}{llll}\n",
       " hours\\_per\\_week & education\\_num & age & income\\\\\n",
       " <dbl> & <dbl> & <dbl> & <fct>\\\\\n",
       "\\hline\n",
       "\t 13 & 13 & 50 & <=50K\\\\\n",
       "\t 40 &  9 & 38 & <=50K\\\\\n",
       "\t 40 &  7 & 53 & <=50K\\\\\n",
       "\t ⋮ & ⋮ & ⋮ & ⋮\\\\\n",
       "\t 40 & 9 & 58 & <=50K\\\\\n",
       "\t 20 & 9 & 22 & <=50K\\\\\n",
       "\t 40 & 9 & 52 & >50K \\\\\n",
       "\\end{tabular}\n"
      ],
      "text/markdown": [
       "\n",
       "A tibble: 32560 × 4\n",
       "\n",
       "| hours_per_week &lt;dbl&gt; | education_num &lt;dbl&gt; | age &lt;dbl&gt; | income &lt;fct&gt; |\n",
       "|---|---|---|---|\n",
       "| 13 | 13 | 50 | &lt;=50K |\n",
       "| 40 |  9 | 38 | &lt;=50K |\n",
       "| 40 |  7 | 53 | &lt;=50K |\n",
       "| ⋮ | ⋮ | ⋮ | ⋮ |\n",
       "| 40 | 9 | 58 | &lt;=50K |\n",
       "| 20 | 9 | 22 | &lt;=50K |\n",
       "| 40 | 9 | 52 | &gt;50K  |\n",
       "\n"
      ],
      "text/plain": [
       "      hours_per_week education_num age income\n",
       "1     13             13            50  <=50K \n",
       "2     40              9            38  <=50K \n",
       "3     40              7            53  <=50K \n",
       "⋮     ⋮              ⋮             ⋮   ⋮     \n",
       "32558 40             9             58  <=50K \n",
       "32559 20             9             22  <=50K \n",
       "32560 40             9             52  >50K  "
      ]
     },
     "metadata": {},
     "output_type": "display_data"
    }
   ],
   "source": [
    "# Changing capital_gain and capita_loss into total_capital, and removing irrelevant predictors\n",
    "data_select <- data %>%\n",
    "mutate(total_capital = capital_gain - capital_loss) %>%\n",
    "select(hours_per_week, education_num, age, income)\n",
    "\n",
    "# Changing data type of some predictors to factor \n",
    "data_new <- mutate(data_select, \n",
    "                   income = as.factor(income))\n",
    "data_new"
   ]
  },
  {
   "cell_type": "code",
   "execution_count": 8,
   "id": "7f0daded-b2e7-411b-b1fc-eb4205663b71",
   "metadata": {},
   "outputs": [
    {
     "data": {
      "text/html": [
       "0"
      ],
      "text/latex": [
       "0"
      ],
      "text/markdown": [
       "0"
      ],
      "text/plain": [
       "[1] 0"
      ]
     },
     "metadata": {},
     "output_type": "display_data"
    }
   ],
   "source": [
    "# We can use the function below to identify whether there are NA's in our dataset\n",
    "sum(is.na(data_new))"
   ]
  },
  {
   "cell_type": "code",
   "execution_count": 9,
   "id": "466e1afb-215d-4131-8244-55190596f5b0",
   "metadata": {},
   "outputs": [],
   "source": [
    "# Set the seed\n",
    "set.seed(2020)\n",
    "# Split the data into a training set and a testing set, with 75% of the data going into the former\n",
    "data_split <- initial_split(data_new, prop = 0.75, strata = income)\n",
    "data_train <- training(data_split)\n",
    "data_test <- testing(data_split)"
   ]
  },
  {
   "cell_type": "code",
   "execution_count": 10,
   "id": "c1dcb30a-ba60-443d-949f-610be5f1d000",
   "metadata": {},
   "outputs": [],
   "source": [
    "#preprocess data\n",
    "set.seed(2020) \n",
    "\n",
    "income_recipe <- recipe(income ~ hours_per_week + education_num + age , data = data_train) %>%\n",
    "   step_scale(all_predictors()) %>%\n",
    "   step_center(all_predictors())"
   ]
  },
  {
   "cell_type": "code",
   "execution_count": 12,
   "id": "23c93c92-3df7-4761-99e3-9b4f87c88617",
   "metadata": {},
   "outputs": [
    {
     "data": {
      "text/plain": [
       "══ Workflow [trained] ══════════════════════════════════════════════════════════\n",
       "\u001b[3mPreprocessor:\u001b[23m Recipe\n",
       "\u001b[3mModel:\u001b[23m nearest_neighbor()\n",
       "\n",
       "── Preprocessor ────────────────────────────────────────────────────────────────\n",
       "2 Recipe Steps\n",
       "\n",
       "• step_scale()\n",
       "• step_center()\n",
       "\n",
       "── Model ───────────────────────────────────────────────────────────────────────\n",
       "\n",
       "Call:\n",
       "kknn::train.kknn(formula = ..y ~ ., data = data, ks = min_rows(3,     data, 5), kernel = ~\"rectangular\")\n",
       "\n",
       "Type of response variable: nominal\n",
       "Minimal misclassification: 0.2048814\n",
       "Best kernel: rectangular\n",
       "Best k: 3"
      ]
     },
     "metadata": {},
     "output_type": "display_data"
    }
   ],
   "source": [
    "#building the classifier with k = 3\n",
    "set.seed(2020)\n",
    "\n",
    "income_spec <- nearest_neighbor(weight_func = \"rectangular\", neighbors = 3) %>%\n",
    "      set_engine(\"kknn\") %>%\n",
    "      set_mode(\"classification\")\n",
    "\n",
    "income_fit <- workflow() %>%\n",
    "      add_recipe(income_recipe) %>%\n",
    "      add_model(income_spec) %>%\n",
    "      fit(data = data_train)\n",
    "income_fit\n"
   ]
  },
  {
   "cell_type": "code",
   "execution_count": 16,
   "id": "8b8fd58f-66db-4747-9a94-670bba696fe4",
   "metadata": {},
   "outputs": [
    {
     "data": {
      "text/html": [
       "<table class=\"dataframe\">\n",
       "<caption>A tibble: 8141 × 5</caption>\n",
       "<thead>\n",
       "\t<tr><th scope=col>.pred_class</th><th scope=col>hours_per_week</th><th scope=col>education_num</th><th scope=col>age</th><th scope=col>income</th></tr>\n",
       "\t<tr><th scope=col>&lt;fct&gt;</th><th scope=col>&lt;dbl&gt;</th><th scope=col>&lt;dbl&gt;</th><th scope=col>&lt;dbl&gt;</th><th scope=col>&lt;fct&gt;</th></tr>\n",
       "</thead>\n",
       "<tbody>\n",
       "\t<tr><td>&lt;=50K</td><td>40</td><td>13</td><td>28</td><td>&lt;=50K</td></tr>\n",
       "\t<tr><td>&lt;=50K</td><td>40</td><td>14</td><td>37</td><td>&lt;=50K</td></tr>\n",
       "\t<tr><td>&lt;=50K</td><td>16</td><td> 5</td><td>49</td><td>&lt;=50K</td></tr>\n",
       "\t<tr><td>⋮</td><td>⋮</td><td>⋮</td><td>⋮</td><td>⋮</td></tr>\n",
       "\t<tr><td>&lt;=50K</td><td>11</td><td>14</td><td>32</td><td>&lt;=50K</td></tr>\n",
       "\t<tr><td>&lt;=50K</td><td>40</td><td> 9</td><td>58</td><td>&lt;=50K</td></tr>\n",
       "\t<tr><td>&lt;=50K</td><td>40</td><td> 9</td><td>52</td><td>&gt;50K </td></tr>\n",
       "</tbody>\n",
       "</table>\n"
      ],
      "text/latex": [
       "A tibble: 8141 × 5\n",
       "\\begin{tabular}{lllll}\n",
       " .pred\\_class & hours\\_per\\_week & education\\_num & age & income\\\\\n",
       " <fct> & <dbl> & <dbl> & <dbl> & <fct>\\\\\n",
       "\\hline\n",
       "\t <=50K & 40 & 13 & 28 & <=50K\\\\\n",
       "\t <=50K & 40 & 14 & 37 & <=50K\\\\\n",
       "\t <=50K & 16 &  5 & 49 & <=50K\\\\\n",
       "\t ⋮ & ⋮ & ⋮ & ⋮ & ⋮\\\\\n",
       "\t <=50K & 11 & 14 & 32 & <=50K\\\\\n",
       "\t <=50K & 40 &  9 & 58 & <=50K\\\\\n",
       "\t <=50K & 40 &  9 & 52 & >50K \\\\\n",
       "\\end{tabular}\n"
      ],
      "text/markdown": [
       "\n",
       "A tibble: 8141 × 5\n",
       "\n",
       "| .pred_class &lt;fct&gt; | hours_per_week &lt;dbl&gt; | education_num &lt;dbl&gt; | age &lt;dbl&gt; | income &lt;fct&gt; |\n",
       "|---|---|---|---|---|\n",
       "| &lt;=50K | 40 | 13 | 28 | &lt;=50K |\n",
       "| &lt;=50K | 40 | 14 | 37 | &lt;=50K |\n",
       "| &lt;=50K | 16 |  5 | 49 | &lt;=50K |\n",
       "| ⋮ | ⋮ | ⋮ | ⋮ | ⋮ |\n",
       "| &lt;=50K | 11 | 14 | 32 | &lt;=50K |\n",
       "| &lt;=50K | 40 |  9 | 58 | &lt;=50K |\n",
       "| &lt;=50K | 40 |  9 | 52 | &gt;50K  |\n",
       "\n"
      ],
      "text/plain": [
       "     .pred_class hours_per_week education_num age income\n",
       "1    <=50K       40             13            28  <=50K \n",
       "2    <=50K       40             14            37  <=50K \n",
       "3    <=50K       16              5            49  <=50K \n",
       "⋮    ⋮           ⋮              ⋮             ⋮   ⋮     \n",
       "8139 <=50K       11             14            32  <=50K \n",
       "8140 <=50K       40              9            58  <=50K \n",
       "8141 <=50K       40              9            52  >50K  "
      ]
     },
     "metadata": {},
     "output_type": "display_data"
    }
   ],
   "source": [
    "set.seed(2020) \n",
    "\n",
    "income_test_predictions <- predict(income_fit, data_test) %>%\n",
    "      bind_cols(data_test)\n",
    "\n",
    "# your code here\n",
    "\n",
    "income_test_predictions"
   ]
  },
  {
   "cell_type": "code",
   "execution_count": 18,
   "id": "6742cb72-d4f2-4f41-a375-69fcb40525e3",
   "metadata": {},
   "outputs": [
    {
     "data": {
      "text/html": [
       "<table class=\"dataframe\">\n",
       "<caption>A tibble: 2 × 3</caption>\n",
       "<thead>\n",
       "\t<tr><th scope=col>.metric</th><th scope=col>.estimator</th><th scope=col>.estimate</th></tr>\n",
       "\t<tr><th scope=col>&lt;chr&gt;</th><th scope=col>&lt;chr&gt;</th><th scope=col>&lt;dbl&gt;</th></tr>\n",
       "</thead>\n",
       "<tbody>\n",
       "\t<tr><td>accuracy</td><td>binary</td><td>0.7679646</td></tr>\n",
       "\t<tr><td>kap     </td><td>binary</td><td>0.1985358</td></tr>\n",
       "</tbody>\n",
       "</table>\n"
      ],
      "text/latex": [
       "A tibble: 2 × 3\n",
       "\\begin{tabular}{lll}\n",
       " .metric & .estimator & .estimate\\\\\n",
       " <chr> & <chr> & <dbl>\\\\\n",
       "\\hline\n",
       "\t accuracy & binary & 0.7679646\\\\\n",
       "\t kap      & binary & 0.1985358\\\\\n",
       "\\end{tabular}\n"
      ],
      "text/markdown": [
       "\n",
       "A tibble: 2 × 3\n",
       "\n",
       "| .metric &lt;chr&gt; | .estimator &lt;chr&gt; | .estimate &lt;dbl&gt; |\n",
       "|---|---|---|\n",
       "| accuracy | binary | 0.7679646 |\n",
       "| kap      | binary | 0.1985358 |\n",
       "\n"
      ],
      "text/plain": [
       "  .metric  .estimator .estimate\n",
       "1 accuracy binary     0.7679646\n",
       "2 kap      binary     0.1985358"
      ]
     },
     "metadata": {},
     "output_type": "display_data"
    }
   ],
   "source": [
    "set.seed(2020) \n",
    "\n",
    "income_prediction_accuracy <- income_test_predictions %>%\n",
    "        metrics(truth = income, estimate = .pred_class)             \n",
    "\n",
    "# your code here\n",
    "\n",
    "income_prediction_accuracy"
   ]
  },
  {
   "cell_type": "code",
   "execution_count": 19,
   "id": "ce7cc397-ff99-49e6-a5c9-63d383ef1054",
   "metadata": {},
   "outputs": [
    {
     "data": {
      "text/plain": [
       "          Truth\n",
       "Prediction <=50K >50K\n",
       "     <=50K  5834 1543\n",
       "     >50K    346  418"
      ]
     },
     "metadata": {},
     "output_type": "display_data"
    }
   ],
   "source": [
    "set.seed(2020) # DO NOT REMOVE\n",
    "\n",
    "income_prediction_mat <- income_test_predictions %>% \n",
    "      conf_mat(truth = income, estimate = .pred_class)\n",
    "\n",
    "# your code here\n",
    "\n",
    "income_prediction_mat"
   ]
  },
  {
   "cell_type": "code",
   "execution_count": 20,
   "id": "c26abed6-cef0-422e-944b-8c84ec66ed8c",
   "metadata": {},
   "outputs": [],
   "source": [
    "#cross-validation\n",
    "set.seed(2020)\n",
    "\n",
    "income_vfold <- vfold_cv(data_train, v = 5, strata = income)"
   ]
  },
  {
   "cell_type": "code",
   "execution_count": 22,
   "id": "d4146172-31d1-4fda-b74a-5e442c40762d",
   "metadata": {},
   "outputs": [],
   "source": [
    "set.seed(2020) \n",
    "\n",
    "income_resample_fit <- workflow() %>%\n",
    "      add_recipe(income_recipe) %>%\n",
    "      add_model(income_spec) %>%\n",
    "      fit_resamples(resamples = income_vfold)\n",
    "\n"
   ]
  },
  {
   "cell_type": "code",
   "execution_count": 23,
   "id": "b9f1957d-69be-4a17-9ec6-78c67c4de807",
   "metadata": {},
   "outputs": [
    {
     "data": {
      "text/html": [
       "<table class=\"dataframe\">\n",
       "<caption>A tibble: 2 × 6</caption>\n",
       "<thead>\n",
       "\t<tr><th scope=col>.metric</th><th scope=col>.estimator</th><th scope=col>mean</th><th scope=col>n</th><th scope=col>std_err</th><th scope=col>.config</th></tr>\n",
       "\t<tr><th scope=col>&lt;chr&gt;</th><th scope=col>&lt;chr&gt;</th><th scope=col>&lt;dbl&gt;</th><th scope=col>&lt;int&gt;</th><th scope=col>&lt;dbl&gt;</th><th scope=col>&lt;chr&gt;</th></tr>\n",
       "</thead>\n",
       "<tbody>\n",
       "\t<tr><td>accuracy</td><td>binary</td><td>0.7723904</td><td>5</td><td>0.001060025</td><td>Preprocessor1_Model1</td></tr>\n",
       "\t<tr><td>roc_auc </td><td>binary</td><td>0.6379473</td><td>5</td><td>0.002536014</td><td>Preprocessor1_Model1</td></tr>\n",
       "</tbody>\n",
       "</table>\n"
      ],
      "text/latex": [
       "A tibble: 2 × 6\n",
       "\\begin{tabular}{llllll}\n",
       " .metric & .estimator & mean & n & std\\_err & .config\\\\\n",
       " <chr> & <chr> & <dbl> & <int> & <dbl> & <chr>\\\\\n",
       "\\hline\n",
       "\t accuracy & binary & 0.7723904 & 5 & 0.001060025 & Preprocessor1\\_Model1\\\\\n",
       "\t roc\\_auc  & binary & 0.6379473 & 5 & 0.002536014 & Preprocessor1\\_Model1\\\\\n",
       "\\end{tabular}\n"
      ],
      "text/markdown": [
       "\n",
       "A tibble: 2 × 6\n",
       "\n",
       "| .metric &lt;chr&gt; | .estimator &lt;chr&gt; | mean &lt;dbl&gt; | n &lt;int&gt; | std_err &lt;dbl&gt; | .config &lt;chr&gt; |\n",
       "|---|---|---|---|---|---|\n",
       "| accuracy | binary | 0.7723904 | 5 | 0.001060025 | Preprocessor1_Model1 |\n",
       "| roc_auc  | binary | 0.6379473 | 5 | 0.002536014 | Preprocessor1_Model1 |\n",
       "\n"
      ],
      "text/plain": [
       "  .metric  .estimator mean      n std_err     .config             \n",
       "1 accuracy binary     0.7723904 5 0.001060025 Preprocessor1_Model1\n",
       "2 roc_auc  binary     0.6379473 5 0.002536014 Preprocessor1_Model1"
      ]
     },
     "metadata": {},
     "output_type": "display_data"
    }
   ],
   "source": [
    "income_metrics <- collect_metrics(income_resample_fit)\n",
    "income_metrics"
   ]
  },
  {
   "cell_type": "code",
   "execution_count": 25,
   "id": "30164e21-bc58-49a3-849b-db63fe1aafef",
   "metadata": {},
   "outputs": [
    {
     "data": {
      "text/plain": [
       "K-Nearest Neighbor Model Specification (classification)\n",
       "\n",
       "Main Arguments:\n",
       "  neighbors = tune()\n",
       "  weight_func = rectangular\n",
       "\n",
       "Computational engine: kknn \n"
      ]
     },
     "metadata": {},
     "output_type": "display_data"
    }
   ],
   "source": [
    "set.seed(2020) \n",
    "\n",
    "knn_tune <- nearest_neighbor(weight_func = \"rectangular\", neighbors = tune()) %>%\n",
    "      set_engine(\"kknn\") %>%\n",
    "      set_mode(\"classification\")\n",
    "knn_tune"
   ]
  },
  {
   "cell_type": "code",
   "execution_count": 27,
   "id": "4bb27a76-7ba9-4c11-8bc4-8a7f651d0347",
   "metadata": {},
   "outputs": [
    {
     "data": {
      "text/html": [
       "<table class=\"dataframe\">\n",
       "<caption>A tibble: 20 × 7</caption>\n",
       "<thead>\n",
       "\t<tr><th scope=col>neighbors</th><th scope=col>.metric</th><th scope=col>.estimator</th><th scope=col>mean</th><th scope=col>n</th><th scope=col>std_err</th><th scope=col>.config</th></tr>\n",
       "\t<tr><th scope=col>&lt;int&gt;</th><th scope=col>&lt;chr&gt;</th><th scope=col>&lt;chr&gt;</th><th scope=col>&lt;dbl&gt;</th><th scope=col>&lt;int&gt;</th><th scope=col>&lt;dbl&gt;</th><th scope=col>&lt;chr&gt;</th></tr>\n",
       "</thead>\n",
       "<tbody>\n",
       "\t<tr><td>2</td><td>accuracy</td><td>binary</td><td>0.7621525</td><td>5</td><td>0.0007754189</td><td>Preprocessor1_Model01</td></tr>\n",
       "\t<tr><td>2</td><td>roc_auc </td><td>binary</td><td>0.6139570</td><td>5</td><td>0.0020605349</td><td>Preprocessor1_Model01</td></tr>\n",
       "\t<tr><td>3</td><td>accuracy</td><td>binary</td><td>0.7723904</td><td>5</td><td>0.0010600251</td><td>Preprocessor1_Model02</td></tr>\n",
       "\t<tr><td>⋮</td><td>⋮</td><td>⋮</td><td>⋮</td><td>⋮</td><td>⋮</td><td>⋮</td></tr>\n",
       "\t<tr><td>13</td><td>roc_auc </td><td>binary</td><td>0.7262551</td><td>5</td><td>0.002506120</td><td>Preprocessor1_Model09</td></tr>\n",
       "\t<tr><td>14</td><td>accuracy</td><td>binary</td><td>0.7916376</td><td>5</td><td>0.001173315</td><td>Preprocessor1_Model10</td></tr>\n",
       "\t<tr><td>14</td><td>roc_auc </td><td>binary</td><td>0.7282320</td><td>5</td><td>0.002230205</td><td>Preprocessor1_Model10</td></tr>\n",
       "</tbody>\n",
       "</table>\n"
      ],
      "text/latex": [
       "A tibble: 20 × 7\n",
       "\\begin{tabular}{lllllll}\n",
       " neighbors & .metric & .estimator & mean & n & std\\_err & .config\\\\\n",
       " <int> & <chr> & <chr> & <dbl> & <int> & <dbl> & <chr>\\\\\n",
       "\\hline\n",
       "\t 2 & accuracy & binary & 0.7621525 & 5 & 0.0007754189 & Preprocessor1\\_Model01\\\\\n",
       "\t 2 & roc\\_auc  & binary & 0.6139570 & 5 & 0.0020605349 & Preprocessor1\\_Model01\\\\\n",
       "\t 3 & accuracy & binary & 0.7723904 & 5 & 0.0010600251 & Preprocessor1\\_Model02\\\\\n",
       "\t ⋮ & ⋮ & ⋮ & ⋮ & ⋮ & ⋮ & ⋮\\\\\n",
       "\t 13 & roc\\_auc  & binary & 0.7262551 & 5 & 0.002506120 & Preprocessor1\\_Model09\\\\\n",
       "\t 14 & accuracy & binary & 0.7916376 & 5 & 0.001173315 & Preprocessor1\\_Model10\\\\\n",
       "\t 14 & roc\\_auc  & binary & 0.7282320 & 5 & 0.002230205 & Preprocessor1\\_Model10\\\\\n",
       "\\end{tabular}\n"
      ],
      "text/markdown": [
       "\n",
       "A tibble: 20 × 7\n",
       "\n",
       "| neighbors &lt;int&gt; | .metric &lt;chr&gt; | .estimator &lt;chr&gt; | mean &lt;dbl&gt; | n &lt;int&gt; | std_err &lt;dbl&gt; | .config &lt;chr&gt; |\n",
       "|---|---|---|---|---|---|---|\n",
       "| 2 | accuracy | binary | 0.7621525 | 5 | 0.0007754189 | Preprocessor1_Model01 |\n",
       "| 2 | roc_auc  | binary | 0.6139570 | 5 | 0.0020605349 | Preprocessor1_Model01 |\n",
       "| 3 | accuracy | binary | 0.7723904 | 5 | 0.0010600251 | Preprocessor1_Model02 |\n",
       "| ⋮ | ⋮ | ⋮ | ⋮ | ⋮ | ⋮ | ⋮ |\n",
       "| 13 | roc_auc  | binary | 0.7262551 | 5 | 0.002506120 | Preprocessor1_Model09 |\n",
       "| 14 | accuracy | binary | 0.7916376 | 5 | 0.001173315 | Preprocessor1_Model10 |\n",
       "| 14 | roc_auc  | binary | 0.7282320 | 5 | 0.002230205 | Preprocessor1_Model10 |\n",
       "\n"
      ],
      "text/plain": [
       "   neighbors .metric  .estimator mean      n std_err      .config              \n",
       "1  2         accuracy binary     0.7621525 5 0.0007754189 Preprocessor1_Model01\n",
       "2  2         roc_auc  binary     0.6139570 5 0.0020605349 Preprocessor1_Model01\n",
       "3  3         accuracy binary     0.7723904 5 0.0010600251 Preprocessor1_Model02\n",
       "⋮  ⋮         ⋮        ⋮          ⋮         ⋮ ⋮            ⋮                    \n",
       "18 13        roc_auc  binary     0.7262551 5 0.002506120  Preprocessor1_Model09\n",
       "19 14        accuracy binary     0.7916376 5 0.001173315  Preprocessor1_Model10\n",
       "20 14        roc_auc  binary     0.7282320 5 0.002230205  Preprocessor1_Model10"
      ]
     },
     "metadata": {},
     "output_type": "display_data"
    }
   ],
   "source": [
    "set.seed(1234)\n",
    "\n",
    "knn_results <- workflow() %>%\n",
    "      add_recipe(income_recipe) %>%\n",
    "      add_model(knn_tune) %>%\n",
    "      tune_grid(resamples = income_vfold, grid = 10) %>%\n",
    "      collect_metrics()\n",
    "\n",
    "\n",
    "\n",
    "knn_results\n",
    "knn_results_accuracy <- knn_results %>%\n",
    "    filter(.metric == \"accuracy\")\n"
   ]
  },
  {
   "cell_type": "code",
   "execution_count": 28,
   "id": "f7b946d2-8a89-4025-a89f-cf5a60941128",
   "metadata": {},
   "outputs": [
    {
     "data": {
      "image/png": "[encoded data removed]",
      "text/plain": [
       "plot without title"
      ]
     },
     "metadata": {
      "image/png": {
       "height": 420,
       "width": 420
      }
     },
     "output_type": "display_data"
    }
   ],
   "source": [
    "accuracies <- knn_results %>% \n",
    "      filter(.metric == \"accuracy\")\n",
    "\n",
    "accuracy_versus_k <- ggplot(accuracies, aes(x = neighbors, y = mean))+\n",
    "    geom_point() +\n",
    "    geom_line() +\n",
    "    labs(x = \"Neighbors\", y = \"Accuracy Estimate\")\n",
    "\n",
    "\n",
    "accuracy_versus_k"
   ]
  },
  {
   "cell_type": "code",
   "execution_count": 31,
   "id": "fbacf316-56c4-469e-9746-553002d0ccd4",
   "metadata": {},
   "outputs": [
    {
     "data": {
      "text/plain": [
       "══ Workflow [trained] ══════════════════════════════════════════════════════════\n",
       "\u001b[3mPreprocessor:\u001b[23m Recipe\n",
       "\u001b[3mModel:\u001b[23m nearest_neighbor()\n",
       "\n",
       "── Preprocessor ────────────────────────────────────────────────────────────────\n",
       "2 Recipe Steps\n",
       "\n",
       "• step_scale()\n",
       "• step_center()\n",
       "\n",
       "── Model ───────────────────────────────────────────────────────────────────────\n",
       "\n",
       "Call:\n",
       "kknn::train.kknn(formula = ..y ~ ., data = data, ks = min_rows(13,     data, 5), kernel = ~\"rectangular\")\n",
       "\n",
       "Type of response variable: nominal\n",
       "Minimal misclassification: 0.1957902\n",
       "Best kernel: rectangular\n",
       "Best k: 13"
      ]
     },
     "metadata": {},
     "output_type": "display_data"
    }
   ],
   "source": [
    "set.seed(2020)\n",
    "income_spec_best <- nearest_neighbor(weight_func = \"rectangular\", neighbors = 13) %>%\n",
    "      set_engine(\"kknn\") %>%\n",
    "      set_mode(\"classification\")\n",
    "\n",
    "income_best_fit <- workflow() %>%\n",
    "      add_recipe(income_recipe) %>%\n",
    "      add_model(income_spec_best) %>%\n",
    "      fit(data = data_train)\n",
    "income_best_fit\n"
   ]
  },
  {
   "cell_type": "code",
   "execution_count": 33,
   "id": "706739fd-da9a-482c-958a-cf0634ca15a9",
   "metadata": {},
   "outputs": [
    {
     "data": {
      "text/html": [
       "<table class=\"dataframe\">\n",
       "<caption>A tibble: 8141 × 5</caption>\n",
       "<thead>\n",
       "\t<tr><th scope=col>.pred_class</th><th scope=col>hours_per_week</th><th scope=col>education_num</th><th scope=col>age</th><th scope=col>income</th></tr>\n",
       "\t<tr><th scope=col>&lt;fct&gt;</th><th scope=col>&lt;dbl&gt;</th><th scope=col>&lt;dbl&gt;</th><th scope=col>&lt;dbl&gt;</th><th scope=col>&lt;fct&gt;</th></tr>\n",
       "</thead>\n",
       "<tbody>\n",
       "\t<tr><td>&lt;=50K</td><td>40</td><td>13</td><td>28</td><td>&lt;=50K</td></tr>\n",
       "\t<tr><td>&lt;=50K</td><td>40</td><td>14</td><td>37</td><td>&lt;=50K</td></tr>\n",
       "\t<tr><td>&lt;=50K</td><td>16</td><td> 5</td><td>49</td><td>&lt;=50K</td></tr>\n",
       "\t<tr><td>⋮</td><td>⋮</td><td>⋮</td><td>⋮</td><td>⋮</td></tr>\n",
       "\t<tr><td>&lt;=50K</td><td>11</td><td>14</td><td>32</td><td>&lt;=50K</td></tr>\n",
       "\t<tr><td>&lt;=50K</td><td>40</td><td> 9</td><td>58</td><td>&lt;=50K</td></tr>\n",
       "\t<tr><td>&lt;=50K</td><td>40</td><td> 9</td><td>52</td><td>&gt;50K </td></tr>\n",
       "</tbody>\n",
       "</table>\n"
      ],
      "text/latex": [
       "A tibble: 8141 × 5\n",
       "\\begin{tabular}{lllll}\n",
       " .pred\\_class & hours\\_per\\_week & education\\_num & age & income\\\\\n",
       " <fct> & <dbl> & <dbl> & <dbl> & <fct>\\\\\n",
       "\\hline\n",
       "\t <=50K & 40 & 13 & 28 & <=50K\\\\\n",
       "\t <=50K & 40 & 14 & 37 & <=50K\\\\\n",
       "\t <=50K & 16 &  5 & 49 & <=50K\\\\\n",
       "\t ⋮ & ⋮ & ⋮ & ⋮ & ⋮\\\\\n",
       "\t <=50K & 11 & 14 & 32 & <=50K\\\\\n",
       "\t <=50K & 40 &  9 & 58 & <=50K\\\\\n",
       "\t <=50K & 40 &  9 & 52 & >50K \\\\\n",
       "\\end{tabular}\n"
      ],
      "text/markdown": [
       "\n",
       "A tibble: 8141 × 5\n",
       "\n",
       "| .pred_class &lt;fct&gt; | hours_per_week &lt;dbl&gt; | education_num &lt;dbl&gt; | age &lt;dbl&gt; | income &lt;fct&gt; |\n",
       "|---|---|---|---|---|\n",
       "| &lt;=50K | 40 | 13 | 28 | &lt;=50K |\n",
       "| &lt;=50K | 40 | 14 | 37 | &lt;=50K |\n",
       "| &lt;=50K | 16 |  5 | 49 | &lt;=50K |\n",
       "| ⋮ | ⋮ | ⋮ | ⋮ | ⋮ |\n",
       "| &lt;=50K | 11 | 14 | 32 | &lt;=50K |\n",
       "| &lt;=50K | 40 |  9 | 58 | &lt;=50K |\n",
       "| &lt;=50K | 40 |  9 | 52 | &gt;50K  |\n",
       "\n"
      ],
      "text/plain": [
       "     .pred_class hours_per_week education_num age income\n",
       "1    <=50K       40             13            28  <=50K \n",
       "2    <=50K       40             14            37  <=50K \n",
       "3    <=50K       16              5            49  <=50K \n",
       "⋮    ⋮           ⋮              ⋮             ⋮   ⋮     \n",
       "8139 <=50K       11             14            32  <=50K \n",
       "8140 <=50K       40              9            58  <=50K \n",
       "8141 <=50K       40              9            52  >50K  "
      ]
     },
     "metadata": {},
     "output_type": "display_data"
    }
   ],
   "source": [
    "set.seed(2020) \n",
    "\n",
    "income_test_best_predictions <- predict(income_best_fit, data_test) %>%\n",
    "      bind_cols(data_test)\n",
    "income_test_best_predictions"
   ]
  },
  {
   "cell_type": "code",
   "execution_count": 34,
   "id": "c0d2303d-2f02-4433-b0b5-f281dda0affe",
   "metadata": {},
   "outputs": [
    {
     "data": {
      "text/html": [
       "<table class=\"dataframe\">\n",
       "<caption>A tibble: 2 × 3</caption>\n",
       "<thead>\n",
       "\t<tr><th scope=col>.metric</th><th scope=col>.estimator</th><th scope=col>.estimate</th></tr>\n",
       "\t<tr><th scope=col>&lt;chr&gt;</th><th scope=col>&lt;chr&gt;</th><th scope=col>&lt;dbl&gt;</th></tr>\n",
       "</thead>\n",
       "<tbody>\n",
       "\t<tr><td>accuracy</td><td>binary</td><td>0.7898293</td></tr>\n",
       "\t<tr><td>kap     </td><td>binary</td><td>0.3019905</td></tr>\n",
       "</tbody>\n",
       "</table>\n"
      ],
      "text/latex": [
       "A tibble: 2 × 3\n",
       "\\begin{tabular}{lll}\n",
       " .metric & .estimator & .estimate\\\\\n",
       " <chr> & <chr> & <dbl>\\\\\n",
       "\\hline\n",
       "\t accuracy & binary & 0.7898293\\\\\n",
       "\t kap      & binary & 0.3019905\\\\\n",
       "\\end{tabular}\n"
      ],
      "text/markdown": [
       "\n",
       "A tibble: 2 × 3\n",
       "\n",
       "| .metric &lt;chr&gt; | .estimator &lt;chr&gt; | .estimate &lt;dbl&gt; |\n",
       "|---|---|---|\n",
       "| accuracy | binary | 0.7898293 |\n",
       "| kap      | binary | 0.3019905 |\n",
       "\n"
      ],
      "text/plain": [
       "  .metric  .estimator .estimate\n",
       "1 accuracy binary     0.7898293\n",
       "2 kap      binary     0.3019905"
      ]
     },
     "metadata": {},
     "output_type": "display_data"
    }
   ],
   "source": [
    "set.seed(2020) \n",
    "\n",
    "income_prediction_accuracy_2 <- income_test_best_predictions %>%\n",
    "        metrics(truth = income, estimate = .pred_class)             \n",
    "\n",
    "# your code here\n",
    "\n",
    "income_prediction_accuracy_2"
   ]
  },
  {
   "cell_type": "code",
   "execution_count": 35,
   "id": "677fa286-435b-4d62-8cef-6d0c69c14afb",
   "metadata": {},
   "outputs": [
    {
     "data": {
      "text/plain": [
       "          Truth\n",
       "Prediction <=50K >50K\n",
       "     <=50K  5832 1363\n",
       "     >50K    348  598"
      ]
     },
     "metadata": {},
     "output_type": "display_data"
    }
   ],
   "source": [
    "set.seed(2020) # DO NOT REMOVE\n",
    "\n",
    "income_prediction_mat_2 <- income_test_best_predictions %>% \n",
    "      conf_mat(truth = income, estimate = .pred_class)\n",
    "\n",
    "\n",
    "\n",
    "income_prediction_mat_2"
   ]
  },
  {
   "cell_type": "code",
   "execution_count": null,
   "id": "c2b69954-d610-4295-8c2a-d7e0ea9802a8",
   "metadata": {},
   "outputs": [],
   "source": []
  }
 ],
 "metadata": {
  "kernelspec": {
   "display_name": "R",
   "language": "R",
   "name": "ir"
  },
  "language_info": {
   "codemirror_mode": "r",
   "file_extension": ".r",
   "mimetype": "text/x-r-source",
   "name": "R",
   "pygments_lexer": "r",
   "version": "4.0.5"
  }
 },
 "nbformat": 4,
 "nbformat_minor": 5
}
